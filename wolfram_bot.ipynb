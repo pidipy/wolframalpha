{
 "cells": [
  {
   "cell_type": "code",
   "execution_count": null,
   "metadata": {},
   "outputs": [],
   "source": [
    "import wolframalpha"
   ]
  },
  {
   "cell_type": "code",
   "execution_count": null,
   "metadata": {},
   "outputs": [],
   "source": [
    "print('Enter Question:')\n",
    "while True:\n",
    "    question = input('>> ')\n",
    "    if question:\n",
    "        wolf_id = 'YOUR-ID-HERE'\n",
    "        # Get id under my apps: https://developer.wolframalpha.com/portal/myapps/index.html\n",
    "        call = wolframalpha.Client(wolf_id)\n",
    "        response = call.query(question)\n",
    "        answer = next(response.results).text\n",
    "        print('>> ', answer)\n",
    "    else:\n",
    "        break"
   ]
  }
 ],
 "metadata": {
  "kernelspec": {
   "display_name": "Python 3",
   "language": "python",
   "name": "python3"
  },
  "language_info": {
   "codemirror_mode": {
    "name": "ipython",
    "version": 3
   },
   "file_extension": ".py",
   "mimetype": "text/x-python",
   "name": "python",
   "nbconvert_exporter": "python",
   "pygments_lexer": "ipython3",
   "version": "3.8.5"
  }
 },
 "nbformat": 4,
 "nbformat_minor": 4
}
